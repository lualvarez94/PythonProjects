{
  "nbformat": 4,
  "nbformat_minor": 0,
  "metadata": {
    "colab": {
      "provenance": [],
      "authorship_tag": "ABX9TyOxeoVqidHZc+wgtCVweYot",
      "include_colab_link": true
    },
    "kernelspec": {
      "name": "python3",
      "display_name": "Python 3"
    },
    "language_info": {
      "name": "python"
    }
  },
  "cells": [
    {
      "cell_type": "markdown",
      "metadata": {
        "id": "view-in-github",
        "colab_type": "text"
      },
      "source": [
        "<a href=\"https://colab.research.google.com/github/lualvarez94/PythonProjects/blob/main/AmazonWebScraperProject.ipynb\" target=\"_parent\"><img src=\"https://colab.research.google.com/assets/colab-badge.svg\" alt=\"Open In Colab\"/></a>"
      ]
    },
    {
      "cell_type": "code",
      "execution_count": 1,
      "metadata": {
        "id": "MdhN3E3n4ZWL"
      },
      "outputs": [],
      "source": [
        "# import libraries\n",
        "\n",
        "from bs4 import BeautifulSoup\n",
        "import requests \n",
        "import smtplib\n",
        "import time\n",
        "import datetime\n",
        "import pandas as pd"
      ]
    },
    {
      "cell_type": "code",
      "source": [
        "# connect to website\n",
        "\n",
        "URL = 'https://www.amazon.com/Apple-Generation-Cancelling-Transparency-Personalized/dp/B0BDHWDR12/ref=sr_1_1_sspa?keywords=airpods&qid=1672251309&sprefix=air%2Caps%2C132&sr=8-1-spons&ufe=app_do%3Aamzn1.fos.f5122f16-c3e8-4386-bf32-63e904010ad0&spLa=ZW5jcnlwdGVkUXVhbGlmaWVyPUEyRFVFQUNEME1LODZXJmVuY3J5cHRlZElkPUEwODUwMjg0MVUyMVFBUkNPVUZKMiZlbmNyeXB0ZWRBZElkPUEwMTA0MTY5M0pBTE1KNTlJTEoxSSZ3aWRnZXROYW1lPXNwX2F0ZiZhY3Rpb249Y2xpY2tSZWRpcmVjdCZkb05vdExvZ0NsaWNrPXRydWU&th=1'\n",
        "\n",
        "headers = {\"User-Agent\": \"Mozilla/5.0 (Windows NT 10.0; Win64; x64) AppleWebKit/537.36 (KHTML, like Gecko) Chrome/78.0.3904.108 Safari/537.36\", \"Accept-Encoding\":\"gzip, deflate\", \"Accept\":\"text/html,application/xhtml+xml,application/xml;q=0.9,*/*;q=0.8\", \"DNT\":\"1\",\"Connection\":\"close\", \"Upgrade-Insecure-Requests\":\"1\"}\n",
        "\n",
        "page = requests.get(URL, headers=headers)\n",
        "\n",
        "Soup1 = BeautifulSoup(page.content, \"html.parser\")\n",
        "\n",
        "Soup2 = BeautifulSoup(Soup1.prettify(), \"html.parser\")\n",
        "\n",
        "title = Soup2.find(id='productTitle').get_text()\n",
        "\n",
        "price = Soup2.find(class_='a-offscreen').get_text()\n",
        "\n",
        "print(title)\n",
        "print(price)\n"
      ],
      "metadata": {
        "colab": {
          "base_uri": "https://localhost:8080/"
        },
        "id": "XL_uV16O4tY-",
        "outputId": "ce852ab3-666f-47f0-fbd6-911d5950d2c0"
      },
      "execution_count": 12,
      "outputs": [
        {
          "output_type": "stream",
          "name": "stdout",
          "text": [
            "\n",
            "     Apple AirPods Pro (2nd Generation) Wireless Earbuds, Up to 2X More Active Noise Cancelling, Adaptive Transparency, Personalized Spatial Audio, MagSafe Charging Case, Bluetooth Headphones for iPhone\n",
            "    \n",
            "\n",
            "                        $229.00\n",
            "                       \n"
          ]
        }
      ]
    },
    {
      "cell_type": "code",
      "source": [
        "# clean output\n",
        "\n",
        "price = price.strip()[1:]\n",
        "title = title.strip()\n",
        "\n",
        "print(title)\n",
        "print(price)"
      ],
      "metadata": {
        "colab": {
          "base_uri": "https://localhost:8080/"
        },
        "id": "tP-8H8sM-lwd",
        "outputId": "6c0cfef7-37d1-4045-e969-5baf7390d280"
      },
      "execution_count": 13,
      "outputs": [
        {
          "output_type": "stream",
          "name": "stdout",
          "text": [
            "Apple AirPods Pro (2nd Generation) Wireless Earbuds, Up to 2X More Active Noise Cancelling, Adaptive Transparency, Personalized Spatial Audio, MagSafe Charging Case, Bluetooth Headphones for iPhone\n",
            "229.00\n"
          ]
        }
      ]
    },
    {
      "cell_type": "code",
      "source": [
        "#import date dimension\n",
        "\n",
        "import datetime\n",
        "today = datetime.date.today()\n",
        "\n",
        "print(today)"
      ],
      "metadata": {
        "colab": {
          "base_uri": "https://localhost:8080/"
        },
        "id": "430p4KJL-yAE",
        "outputId": "7ca9c62a-57c0-4538-9cdd-9dd4fbb77536"
      },
      "execution_count": 14,
      "outputs": [
        {
          "output_type": "stream",
          "name": "stdout",
          "text": [
            "2022-12-28\n"
          ]
        }
      ]
    },
    {
      "cell_type": "code",
      "source": [
        "# create CSV and write headers and data into the csv\n",
        "\n",
        "import csv \n",
        "\n",
        "header = ['Title', 'Price', 'Date']\n",
        "data = [title, price, today]\n",
        "\n",
        "\n",
        "with open('AmazonWebScraper.csv', 'w', newline='', encoding='UTF8') as f:\n",
        "    writer = csv.writer(f)\n",
        "    writer.writerow(header)\n",
        "    writer.writerow(data)"
      ],
      "metadata": {
        "id": "ifKtvHfX-3fa"
      },
      "execution_count": 28,
      "outputs": []
    },
    {
      "cell_type": "code",
      "source": [
        "# appending data to the csv\n",
        "\n",
        "with open('AmazonWebScraper.csv', 'a+', newline='', encoding='UTF8') as f:\n",
        "    writer = csv.writer(f)\n",
        "    writer.writerow(data)"
      ],
      "metadata": {
        "id": "yQuTtwy77fIN"
      },
      "execution_count": 25,
      "outputs": []
    },
    {
      "cell_type": "code",
      "source": [
        "# combine code above into one function\n",
        "\n",
        "\n",
        "def check_price():\n",
        "\n",
        "    URL = 'https://www.amazon.com/Apple-Generation-Cancelling-Transparency-Personalized/dp/B0BDHWDR12/ref=sr_1_1_sspa?keywords=airpods&qid=1672251309&sprefix=air%2Caps%2C132&sr=8-1-spons&ufe=app_do%3Aamzn1.fos.f5122f16-c3e8-4386-bf32-63e904010ad0&spLa=ZW5jcnlwdGVkUXVhbGlmaWVyPUEyRFVFQUNEME1LODZXJmVuY3J5cHRlZElkPUEwODUwMjg0MVUyMVFBUkNPVUZKMiZlbmNyeXB0ZWRBZElkPUEwMTA0MTY5M0pBTE1KNTlJTEoxSSZ3aWRnZXROYW1lPXNwX2F0ZiZhY3Rpb249Y2xpY2tSZWRpcmVjdCZkb05vdExvZ0NsaWNrPXRydWU&th=1'\n",
        "\n",
        "    headers = {\"User-Agent\": \"Mozilla/5.0 (Windows NT 10.0; Win64; x64) AppleWebKit/537.36 (KHTML, like Gecko) Chrome/78.0.3904.108 Safari/537.36\", \"Accept-Encoding\":\"gzip, deflate\", \"Accept\":\"text/html,application/xhtml+xml,application/xml;q=0.9,*/*;q=0.8\", \"DNT\":\"1\",\"Connection\":\"close\", \"Upgrade-Insecure-Requests\":\"1\"}\n",
        "\n",
        "    page = requests.get(URL, headers=headers)\n",
        "\n",
        "    Soup1 = BeautifulSoup(page.content, \"html.parser\")\n",
        "\n",
        "    Soup2 = BeautifulSoup(Soup1.prettify(), \"html.parser\")\n",
        "\n",
        "    title = Soup2.find(id='productTitle').get_text()\n",
        "\n",
        "    price = Soup2.find(class_='a-offscreen').get_text()\n",
        "\n",
        "    price = price.strip()[1:]\n",
        "    title = title.strip()\n",
        "\n",
        "    import datetime\n",
        "\n",
        "    today = datetime.date.today()\n",
        "    \n",
        "    import csv \n",
        "\n",
        "    header = ['Title', 'Price', 'Date']\n",
        "    data = [title, price, today]\n",
        "\n",
        "    with open('AmazonWebScraper.csv', 'a+', newline='', encoding='UTF8') as f:\n",
        "        writer = csv.writer(f)\n",
        "        writer.writerow(data)\n",
        " "
      ],
      "metadata": {
        "id": "N49BWp_u8P7D"
      },
      "execution_count": 29,
      "outputs": []
    },
    {
      "cell_type": "code",
      "source": [
        "# automates the run of the check_price function after indicated time, currently set to 1 day\n",
        "\n",
        "while(True):\n",
        "    check_price()\n",
        "    time.sleep(86400)"
      ],
      "metadata": {
        "id": "vk8mHh3eBloj"
      },
      "execution_count": null,
      "outputs": []
    },
    {
      "cell_type": "code",
      "source": [
        "# ideally each row should have a different date, showcasing the fluctuation of price over time for the item \n",
        "\n",
        "df = pd.read_csv(r'/content/AmazonWebScraper.csv')\n",
        "\n",
        "print(df)"
      ],
      "metadata": {
        "colab": {
          "base_uri": "https://localhost:8080/"
        },
        "id": "WqpBPipcCJ13",
        "outputId": "77310126-9018-4a6f-f296-396452d72d2f"
      },
      "execution_count": 31,
      "outputs": [
        {
          "output_type": "stream",
          "name": "stdout",
          "text": [
            "                                               Title  Price        Date\n",
            "0  Apple AirPods Pro (2nd Generation) Wireless Ea...  229.0  2022-12-28\n",
            "1  Apple AirPods Pro (2nd Generation) Wireless Ea...  229.0  2022-12-28\n",
            "2  Apple AirPods Pro (2nd Generation) Wireless Ea...  229.0  2022-12-28\n",
            "3  Apple AirPods Pro (2nd Generation) Wireless Ea...  229.0  2022-12-28\n"
          ]
        }
      ]
    },
    {
      "cell_type": "code",
      "source": [],
      "metadata": {
        "id": "mlCvybbHC0Yo"
      },
      "execution_count": null,
      "outputs": []
    }
  ]
}