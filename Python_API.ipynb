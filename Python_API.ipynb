{
  "nbformat": 4,
  "nbformat_minor": 0,
  "metadata": {
    "colab": {
      "provenance": [],
      "authorship_tag": "ABX9TyM0U2enAy28pk37P/qHzS9y",
      "include_colab_link": true
    },
    "kernelspec": {
      "name": "python3",
      "display_name": "Python 3"
    },
    "language_info": {
      "name": "python"
    }
  },
  "cells": [
    {
      "cell_type": "markdown",
      "metadata": {
        "id": "view-in-github",
        "colab_type": "text"
      },
      "source": [
        "<a href=\"https://colab.research.google.com/github/lualvarez94/PythonProjects/blob/main/Python_API.ipynb\" target=\"_parent\"><img src=\"https://colab.research.google.com/assets/colab-badge.svg\" alt=\"Open In Colab\"/></a>"
      ]
    },
    {
      "cell_type": "code",
      "source": [
        "import json\n",
        "import datetime\n",
        "import requests\n",
        "import csv\n",
        "import numpy\n",
        "import pandas as pd\n",
        "from pandas import DataFrame"
      ],
      "metadata": {
        "id": "IoL92YY9556X"
      },
      "execution_count": 88,
      "outputs": []
    },
    {
      "cell_type": "markdown",
      "source": [
        "## Loop that runs until all records are retrieved"
      ],
      "metadata": {
        "id": "KIkYYyCZUdBb"
      }
    },
    {
      "cell_type": "code",
      "source": [
        "url = \"https://data.sanjoseca.gov/api/3/action/datastore_search?resource_id=3aefa434-a81c-4c01-8be1-1495da203b5b\"\n",
        "policerecords = []\n",
        "offset = 0\n",
        "limit = 5000\n",
        "\n",
        "while True:\n",
        "    print(\"----\")\n",
        "    url = f\"https://data.sanjoseca.gov/api/3/action/datastore_search?offset=\"+str(offset)+\"&resource_id=3aefa434-a81c-4c01-8be1-1495da203b5b&limit=\"+str(limit)\n",
        "    print(\"Requesting\", url)\n",
        "    response = requests.get(url)\n",
        "    data = response.json()\n",
        "\n",
        "    # Did we find any records?\n",
        "    if len(data['result']['records']) == 0:\n",
        "        # If not, exit the loop\n",
        "        break\n",
        "    \n",
        "    # If we did find records, add them\n",
        "    # to our list and then move on to the next offset\n",
        "    policerecords.extend(data['result']['records'])\n",
        "\n",
        "    offset = offset + 5000"
      ],
      "metadata": {
        "colab": {
          "base_uri": "https://localhost:8080/"
        },
        "id": "XiUTIOD-KYfe",
        "outputId": "bb80bcc3-0536-4ee3-9ab2-48be306e18ed"
      },
      "execution_count": 91,
      "outputs": [
        {
          "output_type": "stream",
          "name": "stdout",
          "text": [
            "----\n",
            "Requesting https://data.sanjoseca.gov/api/3/action/datastore_search?offset=0&resource_id=3aefa434-a81c-4c01-8be1-1495da203b5b&limit=5000\n",
            "----\n",
            "Requesting https://data.sanjoseca.gov/api/3/action/datastore_search?offset=5000&resource_id=3aefa434-a81c-4c01-8be1-1495da203b5b&limit=5000\n",
            "----\n",
            "Requesting https://data.sanjoseca.gov/api/3/action/datastore_search?offset=10000&resource_id=3aefa434-a81c-4c01-8be1-1495da203b5b&limit=5000\n",
            "----\n",
            "Requesting https://data.sanjoseca.gov/api/3/action/datastore_search?offset=15000&resource_id=3aefa434-a81c-4c01-8be1-1495da203b5b&limit=5000\n",
            "----\n",
            "Requesting https://data.sanjoseca.gov/api/3/action/datastore_search?offset=20000&resource_id=3aefa434-a81c-4c01-8be1-1495da203b5b&limit=5000\n",
            "----\n",
            "Requesting https://data.sanjoseca.gov/api/3/action/datastore_search?offset=25000&resource_id=3aefa434-a81c-4c01-8be1-1495da203b5b&limit=5000\n",
            "----\n",
            "Requesting https://data.sanjoseca.gov/api/3/action/datastore_search?offset=30000&resource_id=3aefa434-a81c-4c01-8be1-1495da203b5b&limit=5000\n",
            "----\n",
            "Requesting https://data.sanjoseca.gov/api/3/action/datastore_search?offset=35000&resource_id=3aefa434-a81c-4c01-8be1-1495da203b5b&limit=5000\n",
            "----\n",
            "Requesting https://data.sanjoseca.gov/api/3/action/datastore_search?offset=40000&resource_id=3aefa434-a81c-4c01-8be1-1495da203b5b&limit=5000\n",
            "----\n",
            "Requesting https://data.sanjoseca.gov/api/3/action/datastore_search?offset=45000&resource_id=3aefa434-a81c-4c01-8be1-1495da203b5b&limit=5000\n",
            "----\n",
            "Requesting https://data.sanjoseca.gov/api/3/action/datastore_search?offset=50000&resource_id=3aefa434-a81c-4c01-8be1-1495da203b5b&limit=5000\n",
            "----\n",
            "Requesting https://data.sanjoseca.gov/api/3/action/datastore_search?offset=55000&resource_id=3aefa434-a81c-4c01-8be1-1495da203b5b&limit=5000\n",
            "----\n",
            "Requesting https://data.sanjoseca.gov/api/3/action/datastore_search?offset=60000&resource_id=3aefa434-a81c-4c01-8be1-1495da203b5b&limit=5000\n",
            "----\n",
            "Requesting https://data.sanjoseca.gov/api/3/action/datastore_search?offset=65000&resource_id=3aefa434-a81c-4c01-8be1-1495da203b5b&limit=5000\n",
            "----\n",
            "Requesting https://data.sanjoseca.gov/api/3/action/datastore_search?offset=70000&resource_id=3aefa434-a81c-4c01-8be1-1495da203b5b&limit=5000\n",
            "----\n",
            "Requesting https://data.sanjoseca.gov/api/3/action/datastore_search?offset=75000&resource_id=3aefa434-a81c-4c01-8be1-1495da203b5b&limit=5000\n",
            "----\n",
            "Requesting https://data.sanjoseca.gov/api/3/action/datastore_search?offset=80000&resource_id=3aefa434-a81c-4c01-8be1-1495da203b5b&limit=5000\n",
            "----\n",
            "Requesting https://data.sanjoseca.gov/api/3/action/datastore_search?offset=85000&resource_id=3aefa434-a81c-4c01-8be1-1495da203b5b&limit=5000\n",
            "----\n",
            "Requesting https://data.sanjoseca.gov/api/3/action/datastore_search?offset=90000&resource_id=3aefa434-a81c-4c01-8be1-1495da203b5b&limit=5000\n",
            "----\n",
            "Requesting https://data.sanjoseca.gov/api/3/action/datastore_search?offset=95000&resource_id=3aefa434-a81c-4c01-8be1-1495da203b5b&limit=5000\n",
            "----\n",
            "Requesting https://data.sanjoseca.gov/api/3/action/datastore_search?offset=100000&resource_id=3aefa434-a81c-4c01-8be1-1495da203b5b&limit=5000\n",
            "----\n",
            "Requesting https://data.sanjoseca.gov/api/3/action/datastore_search?offset=105000&resource_id=3aefa434-a81c-4c01-8be1-1495da203b5b&limit=5000\n",
            "----\n",
            "Requesting https://data.sanjoseca.gov/api/3/action/datastore_search?offset=110000&resource_id=3aefa434-a81c-4c01-8be1-1495da203b5b&limit=5000\n",
            "----\n",
            "Requesting https://data.sanjoseca.gov/api/3/action/datastore_search?offset=115000&resource_id=3aefa434-a81c-4c01-8be1-1495da203b5b&limit=5000\n",
            "----\n",
            "Requesting https://data.sanjoseca.gov/api/3/action/datastore_search?offset=120000&resource_id=3aefa434-a81c-4c01-8be1-1495da203b5b&limit=5000\n",
            "----\n",
            "Requesting https://data.sanjoseca.gov/api/3/action/datastore_search?offset=125000&resource_id=3aefa434-a81c-4c01-8be1-1495da203b5b&limit=5000\n",
            "----\n",
            "Requesting https://data.sanjoseca.gov/api/3/action/datastore_search?offset=130000&resource_id=3aefa434-a81c-4c01-8be1-1495da203b5b&limit=5000\n",
            "----\n",
            "Requesting https://data.sanjoseca.gov/api/3/action/datastore_search?offset=135000&resource_id=3aefa434-a81c-4c01-8be1-1495da203b5b&limit=5000\n",
            "----\n",
            "Requesting https://data.sanjoseca.gov/api/3/action/datastore_search?offset=140000&resource_id=3aefa434-a81c-4c01-8be1-1495da203b5b&limit=5000\n",
            "----\n",
            "Requesting https://data.sanjoseca.gov/api/3/action/datastore_search?offset=145000&resource_id=3aefa434-a81c-4c01-8be1-1495da203b5b&limit=5000\n",
            "----\n",
            "Requesting https://data.sanjoseca.gov/api/3/action/datastore_search?offset=150000&resource_id=3aefa434-a81c-4c01-8be1-1495da203b5b&limit=5000\n",
            "----\n",
            "Requesting https://data.sanjoseca.gov/api/3/action/datastore_search?offset=155000&resource_id=3aefa434-a81c-4c01-8be1-1495da203b5b&limit=5000\n",
            "----\n",
            "Requesting https://data.sanjoseca.gov/api/3/action/datastore_search?offset=160000&resource_id=3aefa434-a81c-4c01-8be1-1495da203b5b&limit=5000\n",
            "----\n",
            "Requesting https://data.sanjoseca.gov/api/3/action/datastore_search?offset=165000&resource_id=3aefa434-a81c-4c01-8be1-1495da203b5b&limit=5000\n",
            "----\n",
            "Requesting https://data.sanjoseca.gov/api/3/action/datastore_search?offset=170000&resource_id=3aefa434-a81c-4c01-8be1-1495da203b5b&limit=5000\n",
            "----\n",
            "Requesting https://data.sanjoseca.gov/api/3/action/datastore_search?offset=175000&resource_id=3aefa434-a81c-4c01-8be1-1495da203b5b&limit=5000\n",
            "----\n",
            "Requesting https://data.sanjoseca.gov/api/3/action/datastore_search?offset=180000&resource_id=3aefa434-a81c-4c01-8be1-1495da203b5b&limit=5000\n",
            "----\n",
            "Requesting https://data.sanjoseca.gov/api/3/action/datastore_search?offset=185000&resource_id=3aefa434-a81c-4c01-8be1-1495da203b5b&limit=5000\n",
            "----\n",
            "Requesting https://data.sanjoseca.gov/api/3/action/datastore_search?offset=190000&resource_id=3aefa434-a81c-4c01-8be1-1495da203b5b&limit=5000\n",
            "----\n",
            "Requesting https://data.sanjoseca.gov/api/3/action/datastore_search?offset=195000&resource_id=3aefa434-a81c-4c01-8be1-1495da203b5b&limit=5000\n",
            "----\n",
            "Requesting https://data.sanjoseca.gov/api/3/action/datastore_search?offset=200000&resource_id=3aefa434-a81c-4c01-8be1-1495da203b5b&limit=5000\n",
            "----\n",
            "Requesting https://data.sanjoseca.gov/api/3/action/datastore_search?offset=205000&resource_id=3aefa434-a81c-4c01-8be1-1495da203b5b&limit=5000\n"
          ]
        }
      ]
    },
    {
      "cell_type": "code",
      "source": [
        "# viewing total records in dataset\n",
        "\n",
        "print(len(policerecords))"
      ],
      "metadata": {
        "colab": {
          "base_uri": "https://localhost:8080/"
        },
        "id": "GrT3pnDPH0dM",
        "outputId": "32abd3c2-3491-4710-fa56-46ef27621bb2"
      },
      "execution_count": 92,
      "outputs": [
        {
          "output_type": "stream",
          "name": "stdout",
          "text": [
            "201031\n"
          ]
        }
      ]
    },
    {
      "cell_type": "markdown",
      "source": [
        "# Opening Google Sheet in order to save data retrieved in API call above"
      ],
      "metadata": {
        "id": "sCHEP_GrU4Gk"
      }
    },
    {
      "cell_type": "code",
      "source": [
        "from google.colab import auth\n",
        "auth.authenticate_user()\n",
        "\n",
        "import gspread\n",
        "\n",
        "from gspread_dataframe import set_with_dataframe\n",
        "\n",
        "from google.auth import default\n",
        "creds, _ = default()\n",
        "\n",
        "gc = gspread.authorize(creds)\n",
        "\n",
        "wb = gc.open_by_key('insert-workbook-key')\n",
        "\n",
        "wsdata = wb.worksheet('data')\n",
        "\n",
        "\n"
      ],
      "metadata": {
        "id": "z1FfeEEPLoI8"
      },
      "execution_count": 94,
      "outputs": []
    },
    {
      "cell_type": "code",
      "source": [
        "# convert API results into dataframe\n",
        "\n",
        "df = DataFrame(policerecords)"
      ],
      "metadata": {
        "id": "ZZ22StbpNCiu"
      },
      "execution_count": 95,
      "outputs": []
    },
    {
      "cell_type": "code",
      "source": [
        "# format dataframe so we can save to Google Sheet\n",
        "\n",
        "lOlists = df.to_numpy().tolist()\n",
        "headers = df.columns.tolist()\n",
        "dataTOwrite = [headers]+lOlists"
      ],
      "metadata": {
        "id": "j4JgvHKrNcTQ"
      },
      "execution_count": 97,
      "outputs": []
    },
    {
      "cell_type": "code",
      "source": [
        "# save dataframe in Google Sheet\n",
        "\n",
        "wsdata.update(\"A1\",dataTOwrite)"
      ],
      "metadata": {
        "id": "aeBTVxvGNhkA"
      },
      "execution_count": null,
      "outputs": []
    },
    {
      "cell_type": "code",
      "source": [],
      "metadata": {
        "id": "CqBHYMLuNupU"
      },
      "execution_count": null,
      "outputs": []
    }
  ]
}