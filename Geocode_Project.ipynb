{
  "nbformat": 4,
  "nbformat_minor": 0,
  "metadata": {
    "colab": {
      "provenance": [],
      "authorship_tag": "ABX9TyPWU0jfD6d9lh0lg6NwwVOg",
      "include_colab_link": true
    },
    "kernelspec": {
      "name": "python3",
      "display_name": "Python 3"
    },
    "language_info": {
      "name": "python"
    }
  },
  "cells": [
    {
      "cell_type": "markdown",
      "metadata": {
        "id": "view-in-github",
        "colab_type": "text"
      },
      "source": [
        "<a href=\"https://colab.research.google.com/github/lualvarez94/PythonProjects/blob/main/Geocode_Project.ipynb\" target=\"_parent\"><img src=\"https://colab.research.google.com/assets/colab-badge.svg\" alt=\"Open In Colab\"/></a>"
      ]
    },
    {
      "cell_type": "code",
      "source": [
        "#install geopy\n",
        "\n",
        "pip install geopy"
      ],
      "metadata": {
        "id": "4IZ1l1AcENq_"
      },
      "execution_count": null,
      "outputs": []
    },
    {
      "cell_type": "code",
      "source": [
        "#establish connection to APIs and setup geocoder\n",
        "\n",
        "from geopy.geocoders import Nominatim\n",
        "geolocator = Nominatim(user_agent = 'coordinate_finder')"
      ],
      "metadata": {
        "id": "vGXkTI2WEHra"
      },
      "execution_count": null,
      "outputs": []
    },
    {
      "cell_type": "code",
      "source": [
        "#set up Rate Limiter to not overwhelm server with requests\n",
        "\n",
        "from geopy.extra.rate_limiter import RateLimiter\n",
        "geocode = RateLimiter(geolocator.geocode, min_delay_seconds = 1,   return_value_on_exception = None) \n",
        "# adding 1 second padding between calls"
      ],
      "metadata": {
        "id": "c2G4cz6kFxV8"
      },
      "execution_count": null,
      "outputs": []
    },
    {
      "cell_type": "code",
      "source": [
        "address = [\n",
        "    '3007 Delta rd, San Jose, CA 95135'\n",
        "   #,'3009 Delta rd San Jose, CA 95135'\n",
        "           ]"
      ],
      "metadata": {
        "id": "LATKrfXlGhR2"
      },
      "execution_count": null,
      "outputs": []
    },
    {
      "cell_type": "code",
      "source": [
        "#test out geocoder\n",
        "\n",
        "location = geocode(address)\n",
        "# returns location object with longitude, latitude and altitude instances\n",
        "(location.latitude, location.longitude)"
      ],
      "metadata": {
        "colab": {
          "base_uri": "https://localhost:8080/"
        },
        "id": "7qGJ-UcDGgN_",
        "outputId": "1b2e344e-b833-458a-f926-a269fe6cff29"
      },
      "execution_count": null,
      "outputs": [
        {
          "output_type": "execute_result",
          "data": {
            "text/plain": [
              "(37.30665955, -121.77494276471482)"
            ]
          },
          "metadata": {},
          "execution_count": 32
        }
      ]
    },
    {
      "cell_type": "code",
      "source": [
        "location.raw\n",
        "# returns a dictionary"
      ],
      "metadata": {
        "colab": {
          "base_uri": "https://localhost:8080/"
        },
        "id": "9p_1qvCqGE3I",
        "outputId": "22f4bdad-8567-4275-fb1a-b6c57dc8cf46"
      },
      "execution_count": null,
      "outputs": [
        {
          "output_type": "execute_result",
          "data": {
            "text/plain": [
              "{'place_id': 254040632,\n",
              " 'licence': 'Data © OpenStreetMap contributors, ODbL 1.0. https://osm.org/copyright',\n",
              " 'osm_type': 'way',\n",
              " 'osm_id': 755611416,\n",
              " 'boundingbox': ['37.3065782', '37.3067381', '-121.775044', '-121.7748498'],\n",
              " 'lat': '37.30665955',\n",
              " 'lon': '-121.77494276471482',\n",
              " 'display_name': '3007, Delta Road, Evergreen, San Jose, Santa Clara County, CAL Fire Northern Region, California, 95135, United States',\n",
              " 'class': 'building',\n",
              " 'type': 'detached',\n",
              " 'importance': 0.6201}"
            ]
          },
          "metadata": {},
          "execution_count": 33
        }
      ]
    },
    {
      "cell_type": "code",
      "source": [
        "#search the country names from given state names\n",
        "\n",
        "state1 = \"California\"\n",
        "print(\"State Name:\",state1)\n",
        "location = geolocator.geocode(state1)\n",
        "print(\"State Name/Country Name: \")\n",
        "print(location.address)\n",
        "\n",
        "state2 = \" Illinois\"\n",
        "print(\"\\nState Name:\",state2)\n",
        "location = geolocator.geocode(state2)\n",
        "print(\"State Name/Country Name: \")\n",
        "print(location.address)\n",
        "\n",
        "state3 = \"Normandy\"\n",
        "print(\"\\nState Name:\",state3)\n",
        "location = geolocator.geocode(state3)\n",
        "print(\"State Name/Country Name: \")\n",
        "print(location.address) \n",
        "\n",
        "state4 = \"Jerusalem District\"\n",
        "print(\"\\nState Name:\",state4)\n",
        "location = geolocator.geocode(state4)\n",
        "print(\"State Name/Country Name: \")\n",
        "print(location.address)\n"
      ],
      "metadata": {
        "colab": {
          "base_uri": "https://localhost:8080/"
        },
        "id": "0nN6rT5zIfaQ",
        "outputId": "04bba8f3-f181-42bb-e454-c4078e7db58f"
      },
      "execution_count": null,
      "outputs": [
        {
          "output_type": "stream",
          "name": "stdout",
          "text": [
            "State Name: California\n",
            "State Name/Country Name: \n",
            "California, United States\n",
            "\n",
            "State Name:  Illinois\n",
            "State Name/Country Name: \n",
            "Illinois, United States\n",
            "\n",
            "State Name: Normandy\n",
            "State Name/Country Name: \n",
            "Normandie, France métropolitaine, France\n",
            "\n",
            "State Name: Jerusalem District\n",
            "State Name/Country Name: \n",
            "מחוז ירושלים, ישראל\n"
          ]
        }
      ]
    },
    {
      "cell_type": "code",
      "source": [
        "#find details of given zipcode\n",
        "\n",
        "zipcode1 = \"95133\"\n",
        "print(\"\\nZipcode:\",zipcode1)\n",
        "location = geolocator.geocode(zipcode1)\n",
        "print(\"Details of the said pincode:\")\n",
        "print(location.address)"
      ],
      "metadata": {
        "colab": {
          "base_uri": "https://localhost:8080/"
        },
        "id": "V_TmOd3uJW5Z",
        "outputId": "65e54e32-b4ea-47e7-d0ea-12a80a719904"
      },
      "execution_count": null,
      "outputs": [
        {
          "output_type": "stream",
          "name": "stdout",
          "text": [
            "\n",
            "Zipcode: 95133\n",
            "Details of the said pincode:\n",
            "San Jose, Santa Clara County, CAL Fire Northern Region, California, 95133, United States\n"
          ]
        }
      ]
    },
    {
      "cell_type": "code",
      "source": [
        "#find the long and lat of addresses \n",
        "\n",
        "ladd1 = \"27488 Stanford Avenue, North Dakota\"\n",
        "print(\"Location address:\",ladd1)\n",
        "location = geolocator.geocode(ladd1)\n",
        "print(\"Latitude and Longitude of the said address:\")\n",
        "print((location.latitude, location.longitude))\n",
        "ladd2 = \"380 New York St, Redlands, CA 92373\"\n",
        "print(\"\\nLocation address:\",ladd2)\n",
        "location = geolocator.geocode(ladd2)\n",
        "print(\"Latitude and Longitude of the said address:\")\n",
        "print((location.latitude, location.longitude))"
      ],
      "metadata": {
        "colab": {
          "base_uri": "https://localhost:8080/"
        },
        "id": "db_8AMLIJnHf",
        "outputId": "3851cffe-45c1-4720-d967-ccf21de43de7"
      },
      "execution_count": null,
      "outputs": [
        {
          "output_type": "stream",
          "name": "stdout",
          "text": [
            "Location address: 27488 Stanford Avenue, North Dakota\n",
            "Latitude and Longitude of the said address:\n",
            "(47.470706, -99.704723)\n",
            "\n",
            "Location address: 380 New York St, Redlands, CA 92373\n",
            "Latitude and Longitude of the said address:\n",
            "(34.05728435, -117.19413233160195)\n"
          ]
        }
      ]
    },
    {
      "cell_type": "code",
      "source": [
        "#find location details based on long and lat\n",
        "\n",
        "lald = \"47.470706, -99.704723\"\n",
        "print(\"Latitude and Longitude:\",lald)\n",
        "location = geolocator.geocode(lald)\n",
        "print(\"Location address of the said Latitude and Longitude:\")\n",
        "print(location)"
      ],
      "metadata": {
        "colab": {
          "base_uri": "https://localhost:8080/"
        },
        "id": "sBx3QoqiJznf",
        "outputId": "05c47e2f-6e2a-4bc6-d94b-837432e3dafb"
      },
      "execution_count": null,
      "outputs": [
        {
          "output_type": "stream",
          "name": "stdout",
          "text": [
            "Latitude and Longitude: 47.470706, -99.704723\n",
            "Location address of the said Latitude and Longitude:\n",
            "399, Stanford Avenue, Bowdon, Wells County, North Dakota, 58418, United States\n"
          ]
        }
      ]
    },
    {
      "cell_type": "code",
      "source": [
        "#python function to get city, state and country names of specified coordinates\n",
        "\n",
        "def city_state_country(coord):\n",
        "    location = geolocator.reverse(coord, exactly_one=True)\n",
        "    address = location.raw['address']\n",
        "    city = address.get('city', '')\n",
        "    state = address.get('state', '')\n",
        "    country = address.get('country', '')\n",
        "    return city, state, country\n",
        "print(city_state_country(\"37.29936,\t-121.884\"))"
      ],
      "metadata": {
        "colab": {
          "base_uri": "https://localhost:8080/"
        },
        "id": "9i5NQ2jRKEtE",
        "outputId": "b9f9b387-3fd8-4595-eb53-fe481de3a7ec"
      },
      "execution_count": null,
      "outputs": [
        {
          "output_type": "stream",
          "name": "stdout",
          "text": [
            "('San Jose', 'California', 'United States')\n"
          ]
        }
      ]
    },
    {
      "cell_type": "code",
      "source": [
        "#calculate the distance between two cities\n",
        "\n",
        "from geopy import distance\n",
        "london = (\"51.5074° N, 0.1278° W\")\n",
        "newyork = (\"40.7128° N, 74.0060° W\")\n",
        "print(\"Distance between London and New York city (in km):\")\n",
        "print(distance.distance(london, newyork).km,\" kms\")"
      ],
      "metadata": {
        "colab": {
          "base_uri": "https://localhost:8080/"
        },
        "id": "CuW154hUG9TJ",
        "outputId": "d9b05655-70d9-421c-eb27-4f88c3a07ea1"
      },
      "execution_count": null,
      "outputs": [
        {
          "output_type": "stream",
          "name": "stdout",
          "text": [
            "Distance between London and New York city (in km):\n",
            "5585.233578931302  kms\n"
          ]
        }
      ]
    },
    {
      "cell_type": "code",
      "source": [
        "import pandas as pd\n",
        "\n",
        "#list of places to plot on map \n",
        "top5 = ['Winchester Mystery House',\n",
        "        \"California's Great America\",\n",
        "        'San Jose Museum of Art',\n",
        "        'Happy Hollow Park & Zoo',\n",
        "        'Rosicrucian Egyptian Museum'\n",
        "       ]\n",
        "\n",
        "df = pd.DataFrame(top5, columns=['places'])\n",
        "df['location'] = df['places'].apply(lambda x: geolocator.geocode(x))\n"
      ],
      "metadata": {
        "id": "UTfQnaCzKxOV"
      },
      "execution_count": null,
      "outputs": []
    },
    {
      "cell_type": "code",
      "source": [
        "df['address'] = df['location'].apply(lambda x: x.address)\n",
        "df['lat'] = df['location'].apply(lambda x: x.latitude)\n",
        "df['lon'] = df['location'].apply(lambda x: x.longitude)\n",
        "df = df.drop(columns=['location'])"
      ],
      "metadata": {
        "id": "0Sek23fOPKAP"
      },
      "execution_count": null,
      "outputs": []
    },
    {
      "cell_type": "code",
      "source": [
        "df"
      ],
      "metadata": {
        "colab": {
          "base_uri": "https://localhost:8080/",
          "height": 206
        },
        "id": "BlixXnhjPPrJ",
        "outputId": "6bca5a57-e5e6-4197-ee6c-9d62f2a4daae"
      },
      "execution_count": null,
      "outputs": [
        {
          "output_type": "execute_result",
          "data": {
            "text/plain": [
              "                        places  \\\n",
              "0     Winchester Mystery House   \n",
              "1   California's Great America   \n",
              "2       San Jose Museum of Art   \n",
              "3      Happy Hollow Park & Zoo   \n",
              "4  Rosicrucian Egyptian Museum   \n",
              "\n",
              "                                             address        lat         lon  \n",
              "0  Winchester Mystery House, 525, Winchester Boul...  37.318293 -121.950989  \n",
              "1  California's Great America, 4701, Great Americ...  37.395414 -121.972086  \n",
              "2  San Jose Museum of Art, 110, South Market Stre...  37.333670 -121.890042  \n",
              "3  Happy Hollow Park and Zoo, 1300, Senter Road, ...  37.325867 -121.862902  \n",
              "4  Rosicrucian Egyptian Museum, 1660, Park Avenue...  37.333505 -121.922899  "
            ],
            "text/html": [
              "\n",
              "  <div id=\"df-a6c53b46-8303-4291-8e53-e30c69775f2d\">\n",
              "    <div class=\"colab-df-container\">\n",
              "      <div>\n",
              "<style scoped>\n",
              "    .dataframe tbody tr th:only-of-type {\n",
              "        vertical-align: middle;\n",
              "    }\n",
              "\n",
              "    .dataframe tbody tr th {\n",
              "        vertical-align: top;\n",
              "    }\n",
              "\n",
              "    .dataframe thead th {\n",
              "        text-align: right;\n",
              "    }\n",
              "</style>\n",
              "<table border=\"1\" class=\"dataframe\">\n",
              "  <thead>\n",
              "    <tr style=\"text-align: right;\">\n",
              "      <th></th>\n",
              "      <th>places</th>\n",
              "      <th>address</th>\n",
              "      <th>lat</th>\n",
              "      <th>lon</th>\n",
              "    </tr>\n",
              "  </thead>\n",
              "  <tbody>\n",
              "    <tr>\n",
              "      <th>0</th>\n",
              "      <td>Winchester Mystery House</td>\n",
              "      <td>Winchester Mystery House, 525, Winchester Boul...</td>\n",
              "      <td>37.318293</td>\n",
              "      <td>-121.950989</td>\n",
              "    </tr>\n",
              "    <tr>\n",
              "      <th>1</th>\n",
              "      <td>California's Great America</td>\n",
              "      <td>California's Great America, 4701, Great Americ...</td>\n",
              "      <td>37.395414</td>\n",
              "      <td>-121.972086</td>\n",
              "    </tr>\n",
              "    <tr>\n",
              "      <th>2</th>\n",
              "      <td>San Jose Museum of Art</td>\n",
              "      <td>San Jose Museum of Art, 110, South Market Stre...</td>\n",
              "      <td>37.333670</td>\n",
              "      <td>-121.890042</td>\n",
              "    </tr>\n",
              "    <tr>\n",
              "      <th>3</th>\n",
              "      <td>Happy Hollow Park &amp; Zoo</td>\n",
              "      <td>Happy Hollow Park and Zoo, 1300, Senter Road, ...</td>\n",
              "      <td>37.325867</td>\n",
              "      <td>-121.862902</td>\n",
              "    </tr>\n",
              "    <tr>\n",
              "      <th>4</th>\n",
              "      <td>Rosicrucian Egyptian Museum</td>\n",
              "      <td>Rosicrucian Egyptian Museum, 1660, Park Avenue...</td>\n",
              "      <td>37.333505</td>\n",
              "      <td>-121.922899</td>\n",
              "    </tr>\n",
              "  </tbody>\n",
              "</table>\n",
              "</div>\n",
              "      <button class=\"colab-df-convert\" onclick=\"convertToInteractive('df-a6c53b46-8303-4291-8e53-e30c69775f2d')\"\n",
              "              title=\"Convert this dataframe to an interactive table.\"\n",
              "              style=\"display:none;\">\n",
              "        \n",
              "  <svg xmlns=\"http://www.w3.org/2000/svg\" height=\"24px\"viewBox=\"0 0 24 24\"\n",
              "       width=\"24px\">\n",
              "    <path d=\"M0 0h24v24H0V0z\" fill=\"none\"/>\n",
              "    <path d=\"M18.56 5.44l.94 2.06.94-2.06 2.06-.94-2.06-.94-.94-2.06-.94 2.06-2.06.94zm-11 1L8.5 8.5l.94-2.06 2.06-.94-2.06-.94L8.5 2.5l-.94 2.06-2.06.94zm10 10l.94 2.06.94-2.06 2.06-.94-2.06-.94-.94-2.06-.94 2.06-2.06.94z\"/><path d=\"M17.41 7.96l-1.37-1.37c-.4-.4-.92-.59-1.43-.59-.52 0-1.04.2-1.43.59L10.3 9.45l-7.72 7.72c-.78.78-.78 2.05 0 2.83L4 21.41c.39.39.9.59 1.41.59.51 0 1.02-.2 1.41-.59l7.78-7.78 2.81-2.81c.8-.78.8-2.07 0-2.86zM5.41 20L4 18.59l7.72-7.72 1.47 1.35L5.41 20z\"/>\n",
              "  </svg>\n",
              "      </button>\n",
              "      \n",
              "  <style>\n",
              "    .colab-df-container {\n",
              "      display:flex;\n",
              "      flex-wrap:wrap;\n",
              "      gap: 12px;\n",
              "    }\n",
              "\n",
              "    .colab-df-convert {\n",
              "      background-color: #E8F0FE;\n",
              "      border: none;\n",
              "      border-radius: 50%;\n",
              "      cursor: pointer;\n",
              "      display: none;\n",
              "      fill: #1967D2;\n",
              "      height: 32px;\n",
              "      padding: 0 0 0 0;\n",
              "      width: 32px;\n",
              "    }\n",
              "\n",
              "    .colab-df-convert:hover {\n",
              "      background-color: #E2EBFA;\n",
              "      box-shadow: 0px 1px 2px rgba(60, 64, 67, 0.3), 0px 1px 3px 1px rgba(60, 64, 67, 0.15);\n",
              "      fill: #174EA6;\n",
              "    }\n",
              "\n",
              "    [theme=dark] .colab-df-convert {\n",
              "      background-color: #3B4455;\n",
              "      fill: #D2E3FC;\n",
              "    }\n",
              "\n",
              "    [theme=dark] .colab-df-convert:hover {\n",
              "      background-color: #434B5C;\n",
              "      box-shadow: 0px 1px 3px 1px rgba(0, 0, 0, 0.15);\n",
              "      filter: drop-shadow(0px 1px 2px rgba(0, 0, 0, 0.3));\n",
              "      fill: #FFFFFF;\n",
              "    }\n",
              "  </style>\n",
              "\n",
              "      <script>\n",
              "        const buttonEl =\n",
              "          document.querySelector('#df-a6c53b46-8303-4291-8e53-e30c69775f2d button.colab-df-convert');\n",
              "        buttonEl.style.display =\n",
              "          google.colab.kernel.accessAllowed ? 'block' : 'none';\n",
              "\n",
              "        async function convertToInteractive(key) {\n",
              "          const element = document.querySelector('#df-a6c53b46-8303-4291-8e53-e30c69775f2d');\n",
              "          const dataTable =\n",
              "            await google.colab.kernel.invokeFunction('convertToInteractive',\n",
              "                                                     [key], {});\n",
              "          if (!dataTable) return;\n",
              "\n",
              "          const docLinkHtml = 'Like what you see? Visit the ' +\n",
              "            '<a target=\"_blank\" href=https://colab.research.google.com/notebooks/data_table.ipynb>data table notebook</a>'\n",
              "            + ' to learn more about interactive tables.';\n",
              "          element.innerHTML = '';\n",
              "          dataTable['output_type'] = 'display_data';\n",
              "          await google.colab.output.renderOutput(dataTable, element);\n",
              "          const docLink = document.createElement('div');\n",
              "          docLink.innerHTML = docLinkHtml;\n",
              "          element.appendChild(docLink);\n",
              "        }\n",
              "      </script>\n",
              "    </div>\n",
              "  </div>\n",
              "  "
            ]
          },
          "metadata": {},
          "execution_count": 60
        }
      ]
    },
    {
      "cell_type": "code",
      "source": [
        "import plotly.express as px\n",
        "\n",
        "df['size'] = 1 \n",
        "\n",
        "fig = px.scatter_mapbox(df, \n",
        "                        lat=\"lat\", \n",
        "                        lon=\"lon\",\n",
        "                        zoom=10,\n",
        "                        size='size',\n",
        "                        size_max=10, \n",
        "                        hover_name=\"places\", \n",
        "                        )\n",
        "\n",
        "fig.update_layout(mapbox_style=\"open-street-map\")\n",
        "\n",
        "fig.show()"
      ],
      "metadata": {
        "colab": {
          "base_uri": "https://localhost:8080/",
          "height": 542
        },
        "id": "rhhsZQWUPS2i",
        "outputId": "7d0d2382-3f72-4a40-b72b-23a8e896fd2c"
      },
      "execution_count": null,
      "outputs": [
        {
          "output_type": "display_data",
          "data": {
            "text/html": [
              "<html>\n",
              "<head><meta charset=\"utf-8\" /></head>\n",
              "<body>\n",
              "    <div>            <script src=\"https://cdnjs.cloudflare.com/ajax/libs/mathjax/2.7.5/MathJax.js?config=TeX-AMS-MML_SVG\"></script><script type=\"text/javascript\">if (window.MathJax) {MathJax.Hub.Config({SVG: {font: \"STIX-Web\"}});}</script>                <script type=\"text/javascript\">window.PlotlyConfig = {MathJaxConfig: 'local'};</script>\n",
              "        <script src=\"https://cdn.plot.ly/plotly-2.8.3.min.js\"></script>                <div id=\"98ecf6f1-e025-40b5-b079-1f199c55fe4f\" class=\"plotly-graph-div\" style=\"height:525px; width:100%;\"></div>            <script type=\"text/javascript\">                                    window.PLOTLYENV=window.PLOTLYENV || {};                                    if (document.getElementById(\"98ecf6f1-e025-40b5-b079-1f199c55fe4f\")) {                    Plotly.newPlot(                        \"98ecf6f1-e025-40b5-b079-1f199c55fe4f\",                        [{\"hovertemplate\":\"<b>%{hovertext}</b><br><br>size=%{marker.size}<br>lat=%{lat}<br>lon=%{lon}<extra></extra>\",\"hovertext\":[\"Winchester Mystery House\",\"California's Great America\",\"San Jose Museum of Art\",\"Happy Hollow Park & Zoo\",\"Rosicrucian Egyptian Museum\"],\"lat\":[37.3182932,37.395414450000004,37.3336702,37.3258672,37.333504500000004],\"legendgroup\":\"\",\"lon\":[-121.9509885981505,-121.97208600265554,-121.8900419953028,-121.86290157396206,-121.92289944954837],\"marker\":{\"color\":\"#636efa\",\"size\":[1,1,1,1,1],\"sizemode\":\"area\",\"sizeref\":0.01},\"mode\":\"markers\",\"name\":\"\",\"showlegend\":false,\"subplot\":\"mapbox\",\"type\":\"scattermapbox\"}],                        {\"template\":{\"data\":{\"bar\":[{\"error_x\":{\"color\":\"#2a3f5f\"},\"error_y\":{\"color\":\"#2a3f5f\"},\"marker\":{\"line\":{\"color\":\"#E5ECF6\",\"width\":0.5},\"pattern\":{\"fillmode\":\"overlay\",\"size\":10,\"solidity\":0.2}},\"type\":\"bar\"}],\"barpolar\":[{\"marker\":{\"line\":{\"color\":\"#E5ECF6\",\"width\":0.5},\"pattern\":{\"fillmode\":\"overlay\",\"size\":10,\"solidity\":0.2}},\"type\":\"barpolar\"}],\"carpet\":[{\"aaxis\":{\"endlinecolor\":\"#2a3f5f\",\"gridcolor\":\"white\",\"linecolor\":\"white\",\"minorgridcolor\":\"white\",\"startlinecolor\":\"#2a3f5f\"},\"baxis\":{\"endlinecolor\":\"#2a3f5f\",\"gridcolor\":\"white\",\"linecolor\":\"white\",\"minorgridcolor\":\"white\",\"startlinecolor\":\"#2a3f5f\"},\"type\":\"carpet\"}],\"choropleth\":[{\"colorbar\":{\"outlinewidth\":0,\"ticks\":\"\"},\"type\":\"choropleth\"}],\"contour\":[{\"colorbar\":{\"outlinewidth\":0,\"ticks\":\"\"},\"colorscale\":[[0.0,\"#0d0887\"],[0.1111111111111111,\"#46039f\"],[0.2222222222222222,\"#7201a8\"],[0.3333333333333333,\"#9c179e\"],[0.4444444444444444,\"#bd3786\"],[0.5555555555555556,\"#d8576b\"],[0.6666666666666666,\"#ed7953\"],[0.7777777777777778,\"#fb9f3a\"],[0.8888888888888888,\"#fdca26\"],[1.0,\"#f0f921\"]],\"type\":\"contour\"}],\"contourcarpet\":[{\"colorbar\":{\"outlinewidth\":0,\"ticks\":\"\"},\"type\":\"contourcarpet\"}],\"heatmap\":[{\"colorbar\":{\"outlinewidth\":0,\"ticks\":\"\"},\"colorscale\":[[0.0,\"#0d0887\"],[0.1111111111111111,\"#46039f\"],[0.2222222222222222,\"#7201a8\"],[0.3333333333333333,\"#9c179e\"],[0.4444444444444444,\"#bd3786\"],[0.5555555555555556,\"#d8576b\"],[0.6666666666666666,\"#ed7953\"],[0.7777777777777778,\"#fb9f3a\"],[0.8888888888888888,\"#fdca26\"],[1.0,\"#f0f921\"]],\"type\":\"heatmap\"}],\"heatmapgl\":[{\"colorbar\":{\"outlinewidth\":0,\"ticks\":\"\"},\"colorscale\":[[0.0,\"#0d0887\"],[0.1111111111111111,\"#46039f\"],[0.2222222222222222,\"#7201a8\"],[0.3333333333333333,\"#9c179e\"],[0.4444444444444444,\"#bd3786\"],[0.5555555555555556,\"#d8576b\"],[0.6666666666666666,\"#ed7953\"],[0.7777777777777778,\"#fb9f3a\"],[0.8888888888888888,\"#fdca26\"],[1.0,\"#f0f921\"]],\"type\":\"heatmapgl\"}],\"histogram\":[{\"marker\":{\"pattern\":{\"fillmode\":\"overlay\",\"size\":10,\"solidity\":0.2}},\"type\":\"histogram\"}],\"histogram2d\":[{\"colorbar\":{\"outlinewidth\":0,\"ticks\":\"\"},\"colorscale\":[[0.0,\"#0d0887\"],[0.1111111111111111,\"#46039f\"],[0.2222222222222222,\"#7201a8\"],[0.3333333333333333,\"#9c179e\"],[0.4444444444444444,\"#bd3786\"],[0.5555555555555556,\"#d8576b\"],[0.6666666666666666,\"#ed7953\"],[0.7777777777777778,\"#fb9f3a\"],[0.8888888888888888,\"#fdca26\"],[1.0,\"#f0f921\"]],\"type\":\"histogram2d\"}],\"histogram2dcontour\":[{\"colorbar\":{\"outlinewidth\":0,\"ticks\":\"\"},\"colorscale\":[[0.0,\"#0d0887\"],[0.1111111111111111,\"#46039f\"],[0.2222222222222222,\"#7201a8\"],[0.3333333333333333,\"#9c179e\"],[0.4444444444444444,\"#bd3786\"],[0.5555555555555556,\"#d8576b\"],[0.6666666666666666,\"#ed7953\"],[0.7777777777777778,\"#fb9f3a\"],[0.8888888888888888,\"#fdca26\"],[1.0,\"#f0f921\"]],\"type\":\"histogram2dcontour\"}],\"mesh3d\":[{\"colorbar\":{\"outlinewidth\":0,\"ticks\":\"\"},\"type\":\"mesh3d\"}],\"parcoords\":[{\"line\":{\"colorbar\":{\"outlinewidth\":0,\"ticks\":\"\"}},\"type\":\"parcoords\"}],\"pie\":[{\"automargin\":true,\"type\":\"pie\"}],\"scatter\":[{\"marker\":{\"colorbar\":{\"outlinewidth\":0,\"ticks\":\"\"}},\"type\":\"scatter\"}],\"scatter3d\":[{\"line\":{\"colorbar\":{\"outlinewidth\":0,\"ticks\":\"\"}},\"marker\":{\"colorbar\":{\"outlinewidth\":0,\"ticks\":\"\"}},\"type\":\"scatter3d\"}],\"scattercarpet\":[{\"marker\":{\"colorbar\":{\"outlinewidth\":0,\"ticks\":\"\"}},\"type\":\"scattercarpet\"}],\"scattergeo\":[{\"marker\":{\"colorbar\":{\"outlinewidth\":0,\"ticks\":\"\"}},\"type\":\"scattergeo\"}],\"scattergl\":[{\"marker\":{\"colorbar\":{\"outlinewidth\":0,\"ticks\":\"\"}},\"type\":\"scattergl\"}],\"scattermapbox\":[{\"marker\":{\"colorbar\":{\"outlinewidth\":0,\"ticks\":\"\"}},\"type\":\"scattermapbox\"}],\"scatterpolar\":[{\"marker\":{\"colorbar\":{\"outlinewidth\":0,\"ticks\":\"\"}},\"type\":\"scatterpolar\"}],\"scatterpolargl\":[{\"marker\":{\"colorbar\":{\"outlinewidth\":0,\"ticks\":\"\"}},\"type\":\"scatterpolargl\"}],\"scatterternary\":[{\"marker\":{\"colorbar\":{\"outlinewidth\":0,\"ticks\":\"\"}},\"type\":\"scatterternary\"}],\"surface\":[{\"colorbar\":{\"outlinewidth\":0,\"ticks\":\"\"},\"colorscale\":[[0.0,\"#0d0887\"],[0.1111111111111111,\"#46039f\"],[0.2222222222222222,\"#7201a8\"],[0.3333333333333333,\"#9c179e\"],[0.4444444444444444,\"#bd3786\"],[0.5555555555555556,\"#d8576b\"],[0.6666666666666666,\"#ed7953\"],[0.7777777777777778,\"#fb9f3a\"],[0.8888888888888888,\"#fdca26\"],[1.0,\"#f0f921\"]],\"type\":\"surface\"}],\"table\":[{\"cells\":{\"fill\":{\"color\":\"#EBF0F8\"},\"line\":{\"color\":\"white\"}},\"header\":{\"fill\":{\"color\":\"#C8D4E3\"},\"line\":{\"color\":\"white\"}},\"type\":\"table\"}]},\"layout\":{\"annotationdefaults\":{\"arrowcolor\":\"#2a3f5f\",\"arrowhead\":0,\"arrowwidth\":1},\"autotypenumbers\":\"strict\",\"coloraxis\":{\"colorbar\":{\"outlinewidth\":0,\"ticks\":\"\"}},\"colorscale\":{\"diverging\":[[0,\"#8e0152\"],[0.1,\"#c51b7d\"],[0.2,\"#de77ae\"],[0.3,\"#f1b6da\"],[0.4,\"#fde0ef\"],[0.5,\"#f7f7f7\"],[0.6,\"#e6f5d0\"],[0.7,\"#b8e186\"],[0.8,\"#7fbc41\"],[0.9,\"#4d9221\"],[1,\"#276419\"]],\"sequential\":[[0.0,\"#0d0887\"],[0.1111111111111111,\"#46039f\"],[0.2222222222222222,\"#7201a8\"],[0.3333333333333333,\"#9c179e\"],[0.4444444444444444,\"#bd3786\"],[0.5555555555555556,\"#d8576b\"],[0.6666666666666666,\"#ed7953\"],[0.7777777777777778,\"#fb9f3a\"],[0.8888888888888888,\"#fdca26\"],[1.0,\"#f0f921\"]],\"sequentialminus\":[[0.0,\"#0d0887\"],[0.1111111111111111,\"#46039f\"],[0.2222222222222222,\"#7201a8\"],[0.3333333333333333,\"#9c179e\"],[0.4444444444444444,\"#bd3786\"],[0.5555555555555556,\"#d8576b\"],[0.6666666666666666,\"#ed7953\"],[0.7777777777777778,\"#fb9f3a\"],[0.8888888888888888,\"#fdca26\"],[1.0,\"#f0f921\"]]},\"colorway\":[\"#636efa\",\"#EF553B\",\"#00cc96\",\"#ab63fa\",\"#FFA15A\",\"#19d3f3\",\"#FF6692\",\"#B6E880\",\"#FF97FF\",\"#FECB52\"],\"font\":{\"color\":\"#2a3f5f\"},\"geo\":{\"bgcolor\":\"white\",\"lakecolor\":\"white\",\"landcolor\":\"#E5ECF6\",\"showlakes\":true,\"showland\":true,\"subunitcolor\":\"white\"},\"hoverlabel\":{\"align\":\"left\"},\"hovermode\":\"closest\",\"mapbox\":{\"style\":\"light\"},\"paper_bgcolor\":\"white\",\"plot_bgcolor\":\"#E5ECF6\",\"polar\":{\"angularaxis\":{\"gridcolor\":\"white\",\"linecolor\":\"white\",\"ticks\":\"\"},\"bgcolor\":\"#E5ECF6\",\"radialaxis\":{\"gridcolor\":\"white\",\"linecolor\":\"white\",\"ticks\":\"\"}},\"scene\":{\"xaxis\":{\"backgroundcolor\":\"#E5ECF6\",\"gridcolor\":\"white\",\"gridwidth\":2,\"linecolor\":\"white\",\"showbackground\":true,\"ticks\":\"\",\"zerolinecolor\":\"white\"},\"yaxis\":{\"backgroundcolor\":\"#E5ECF6\",\"gridcolor\":\"white\",\"gridwidth\":2,\"linecolor\":\"white\",\"showbackground\":true,\"ticks\":\"\",\"zerolinecolor\":\"white\"},\"zaxis\":{\"backgroundcolor\":\"#E5ECF6\",\"gridcolor\":\"white\",\"gridwidth\":2,\"linecolor\":\"white\",\"showbackground\":true,\"ticks\":\"\",\"zerolinecolor\":\"white\"}},\"shapedefaults\":{\"line\":{\"color\":\"#2a3f5f\"}},\"ternary\":{\"aaxis\":{\"gridcolor\":\"white\",\"linecolor\":\"white\",\"ticks\":\"\"},\"baxis\":{\"gridcolor\":\"white\",\"linecolor\":\"white\",\"ticks\":\"\"},\"bgcolor\":\"#E5ECF6\",\"caxis\":{\"gridcolor\":\"white\",\"linecolor\":\"white\",\"ticks\":\"\"}},\"title\":{\"x\":0.05},\"xaxis\":{\"automargin\":true,\"gridcolor\":\"white\",\"linecolor\":\"white\",\"ticks\":\"\",\"title\":{\"standoff\":15},\"zerolinecolor\":\"white\",\"zerolinewidth\":2},\"yaxis\":{\"automargin\":true,\"gridcolor\":\"white\",\"linecolor\":\"white\",\"ticks\":\"\",\"title\":{\"standoff\":15},\"zerolinecolor\":\"white\",\"zerolinewidth\":2}}},\"mapbox\":{\"domain\":{\"x\":[0.0,1.0],\"y\":[0.0,1.0]},\"center\":{\"lat\":37.341349910000005,\"lon\":-121.91978352392384},\"zoom\":10,\"style\":\"open-street-map\"},\"legend\":{\"tracegroupgap\":0,\"itemsizing\":\"constant\"},\"margin\":{\"t\":60}},                        {\"responsive\": true}                    ).then(function(){\n",
              "                            \n",
              "var gd = document.getElementById('98ecf6f1-e025-40b5-b079-1f199c55fe4f');\n",
              "var x = new MutationObserver(function (mutations, observer) {{\n",
              "        var display = window.getComputedStyle(gd).display;\n",
              "        if (!display || display === 'none') {{\n",
              "            console.log([gd, 'removed!']);\n",
              "            Plotly.purge(gd);\n",
              "            observer.disconnect();\n",
              "        }}\n",
              "}});\n",
              "\n",
              "// Listen for the removal of the full notebook cells\n",
              "var notebookContainer = gd.closest('#notebook-container');\n",
              "if (notebookContainer) {{\n",
              "    x.observe(notebookContainer, {childList: true});\n",
              "}}\n",
              "\n",
              "// Listen for the clearing of the current output cell\n",
              "var outputEl = gd.closest('.output');\n",
              "if (outputEl) {{\n",
              "    x.observe(outputEl, {childList: true});\n",
              "}}\n",
              "\n",
              "                        })                };                            </script>        </div>\n",
              "</body>\n",
              "</html>"
            ]
          },
          "metadata": {}
        }
      ]
    }
  ]
}